{
 "cells": [
  {
   "cell_type": "code",
   "execution_count": 25,
   "metadata": {},
   "outputs": [],
   "source": [
    "import darshan\n",
    "import numpy\n",
    "import h5py\n",
    "import os.path\n",
    "import pandas"
   ]
  },
  {
   "cell_type": "code",
   "execution_count": 3,
   "metadata": {},
   "outputs": [
    {
     "data": {
      "text/plain": [
       "True"
      ]
     },
     "execution_count": 3,
     "metadata": {},
     "output_type": "execute_result"
    }
   ],
   "source": [
    "filename=\"../../xpmoda_data/ImageProcessing/D2024-04-18_15:54:02_R1_W8/agueroud_python3.10_id56357-56357_4-18-57271-14829777830687840415_1.darshan\"\n",
    "os.path.isfile(filename)"
   ]
  },
  {
   "cell_type": "code",
   "execution_count": 6,
   "metadata": {},
   "outputs": [],
   "source": [
    "header=\"../../xpmoda_data/ImageProcessing/D2024-04-18_15:54:02_R1_W8/\"\n",
    "filename1=\"agueroud_python3.10_id56357-56357_4-18-57271-14829777830687840415_1.darshan\" # lorge file\n",
    "filename2=\"agueroud_python3.10_id11355-11355_4-18-57271-17993944196753836403_1.darshan\" # lorge file\n",
    "filename3=\"agueroud_mpiexec_id12762-12762_4-18-57269-13840249305489711412_1.darshan\"\n",
    "filename4=\"agueroud_python3.10_id11346-11346_4-18-57271-15569483023332165605_1.darshan\""
   ]
  },
  {
   "cell_type": "code",
   "execution_count": null,
   "metadata": {},
   "outputs": [
    {
     "name": "stdout",
     "output_type": "stream",
     "text": [
      "metadata:  {'job': {'uid': 37993, 'start_time_sec': 1713455671, 'start_time_nsec': 934386245, 'end_time_sec': 1713455882, 'end_time_nsec': 893607402, 'nprocs': 1, 'jobid': 56357, 'run_time': 210.95922112464905, 'log_ver': '3.41', 'metadata': {'lib_ver': '3.4.4', 'h': 'romio_no_indep_rw=true;cb_nodes=4'}}, 'exe': '/home/agueroudji/spack/var/spack/environments/mofkadask/.spack-env/._view/ycbghmgvq7z34ridg4nntzus2jsgkcos/bin/python3.10 -c from multiprocessing.spawn import spawn_main; spawn_main(tracker_fd=11, pipe_handle=17) --multiprocessing-fork '}\n",
      "Filename:       ../../xpmoda_data/ImageProcessing/D2024-04-18_15:54:02_R1_W8/agueroud_python3.10_id56357-56357_4-18-57271-14829777830687840415_1.darshan\n",
      "Executable:     /home/agueroudji/spack/var/spack/environments/mofkadask/.spack-env/._view/ycbghmgvq7z34ridg4nntzus2jsgkcos/bin/python3.10 -c from multiprocessing.spawn import spawn_main; spawn_main(tracker_fd=11, pipe_handle=17) --multiprocessing-fork \n",
      "Times:          2024-04-18 11:54:31 to 2024-04-18 11:58:02\n",
      "Run time:       210.9592 (s)\n",
      "Processes:      1\n",
      "JobID:          56357\n",
      "UID:            37993\n",
      "Modules in Log: ['POSIX', 'LUSTRE', 'STDIO', 'DXT_POSIX', 'HEATMAP']\n",
      "Loaded Records: {}\n",
      "Name Records:   0\n",
      "Darshan/Hints:  {'lib_ver': '3.4.4', 'h': 'romio_no_indep_rw=true;cb_nodes=4'}\n",
      "DarshanReport:  id(140409823964896) (tmp)\n",
      "None\n",
      "<darshan.report.DarshanRecordCollection object at 0x7fb3b660d370>\n",
      "     rank                    id  POSIX_OPENS  POSIX_FILENOS  POSIX_DUPS  \\\n",
      "0       0  14734109647742566553            3              2           1   \n",
      "1       0   7238257241479193519            5              4           1   \n",
      "2       0  15920181672442173319            3              2           1   \n",
      "3       0   4653543373137979982            1              0           0   \n",
      "4       0  14503222687814266910            3              0           0   \n",
      "..    ...                   ...          ...            ...         ...   \n",
      "193     0   2140375639409552966            1              0           0   \n",
      "194     0  15687943867602824560            1              0           0   \n",
      "195     0   8836319556505335083            1              0           0   \n",
      "196     0  13766495601336343678            1              0           0   \n",
      "197     0  10851688915725036634            1              0           0   \n",
      "\n",
      "     POSIX_READS  POSIX_WRITES  POSIX_SEEKS  POSIX_STATS  POSIX_MMAPS  ...  \\\n",
      "0              0             0            1            0           -1  ...   \n",
      "1              0            47            0            0           -1  ...   \n",
      "2              0             0            0            0           -1  ...   \n",
      "3              2             0            1            1           -1  ...   \n",
      "4              6             0           10            7           -1  ...   \n",
      "..           ...           ...          ...          ...          ...  ...   \n",
      "193            0             1            1            2           -1  ...   \n",
      "194            0             1            1            2           -1  ...   \n",
      "195            0             0            0            0           -1  ...   \n",
      "196            0             0            0            0           -1  ...   \n",
      "197            0             0            0            0           -1  ...   \n",
      "\n",
      "     POSIX_ACCESS3_ACCESS  POSIX_ACCESS4_ACCESS  POSIX_ACCESS1_COUNT  \\\n",
      "0                       0                     0                    0   \n",
      "1                     231                   229                   11   \n",
      "2                       0                     0                    0   \n",
      "3                       0                     0                    1   \n",
      "4                       0                     0                    3   \n",
      "..                    ...                   ...                  ...   \n",
      "193                     0                     0                    1   \n",
      "194                     0                     0                    1   \n",
      "195                     0                     0                    0   \n",
      "196                     0                     0                    0   \n",
      "197                     0                     0                    0   \n",
      "\n",
      "     POSIX_ACCESS2_COUNT  POSIX_ACCESS3_COUNT  POSIX_ACCESS4_COUNT  \\\n",
      "0                      0                    0                    0   \n",
      "1                     10                    7                    3   \n",
      "2                      0                    0                    0   \n",
      "3                      0                    0                    0   \n",
      "4                      1                    0                    0   \n",
      "..                   ...                  ...                  ...   \n",
      "193                    0                    0                    0   \n",
      "194                    0                    0                    0   \n",
      "195                    0                    0                    0   \n",
      "196                    0                    0                    0   \n",
      "197                    0                    0                    0   \n",
      "\n",
      "     POSIX_FASTEST_RANK  POSIX_FASTEST_RANK_BYTES  POSIX_SLOWEST_RANK  \\\n",
      "0                     0                         0                   0   \n",
      "1                     0                         0                   0   \n",
      "2                     0                         0                   0   \n",
      "3                     0                         0                   0   \n",
      "4                     0                         0                   0   \n",
      "..                  ...                       ...                 ...   \n",
      "193                   0                         0                   0   \n",
      "194                   0                         0                   0   \n",
      "195                   0                         0                   0   \n",
      "196                   0                         0                   0   \n",
      "197                   0                         0                   0   \n",
      "\n",
      "     POSIX_SLOWEST_RANK_BYTES  \n",
      "0                           0  \n",
      "1                           0  \n",
      "2                           0  \n",
      "3                           0  \n",
      "4                           0  \n",
      "..                        ...  \n",
      "193                         0  \n",
      "194                         0  \n",
      "195                         0  \n",
      "196                         0  \n",
      "197                         0  \n",
      "\n",
      "[198 rows x 71 columns]\n"
     ]
    }
   ],
   "source": [
    "with darshan.DarshanReport(header+filename1,read_all=False) as report:\n",
    "    print(\"metadata: \", report.metadata)\n",
    "    print(report.info())\n",
    "    # NOTE: have to actually _read_ the records before you can access them.\n",
    "    report.mod_read_all_records('POSIX', dtype='numpy', warnings=True)\n",
    "    \n",
    "    \n",
    "    df = report.records['POSIX'].to_df()\n",
    "    print(df['counters'])\n",
    "    \n",
    "    "
   ]
  },
  {
   "cell_type": "code",
   "execution_count": 2,
   "metadata": {},
   "outputs": [
    {
     "ename": "",
     "evalue": "",
     "output_type": "error",
     "traceback": [
      "\u001b[1;31mThe Kernel crashed while executing code in the current cell or a previous cell. \n",
      "\u001b[1;31mPlease review the code in the cell(s) to identify a possible cause of the failure. \n",
      "\u001b[1;31mClick <a href='https://aka.ms/vscodeJupyterKernelCrash'>here</a> for more info. \n",
      "\u001b[1;31mView Jupyter <a href='command:jupyter.viewOutput'>log</a> for further details."
     ]
    }
   ],
   "source": [
    "# open a Darshan log file and read all data stored in it\n",
    "with darshan.DarshanReport(filename, read_all=True) as report:\n",
    "\n",
    "    # print the metadata dict for this log\n",
    "    print(\"metadata: \", report.metadata)\n",
    "    # print job runtime and nprocs\n",
    "    print(\"run_time: \", report.metadata['job']['run_time'])\n",
    "    print(\"nprocs: \", report.metadata['job']['nprocs'])\n",
    "\n",
    "    # print modules contained in the report\n",
    "    print(\"modules: \", list(report.modules.keys()))\n",
    "\n",
    "    # export POSIX module records to DataFrame and print\n",
    "    posix_df = report.records['POSIX'].to_df()\n",
    "    print(\"POSIX df: \", posix_df)"
   ]
  }
 ],
 "metadata": {
  "kernelspec": {
   "display_name": ".venv",
   "language": "python",
   "name": "python3"
  },
  "language_info": {
   "codemirror_mode": {
    "name": "ipython",
    "version": 3
   },
   "file_extension": ".py",
   "mimetype": "text/x-python",
   "name": "python",
   "nbconvert_exporter": "python",
   "pygments_lexer": "ipython3",
   "version": "3.8.13"
  }
 },
 "nbformat": 4,
 "nbformat_minor": 2
}
